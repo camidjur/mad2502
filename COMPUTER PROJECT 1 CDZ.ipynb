{
 "cells": [
  {
   "cell_type": "code",
   "execution_count": 5,
   "id": "8fe6343a",
   "metadata": {},
   "outputs": [
    {
     "name": "stdout",
     "output_type": "stream",
     "text": [
      "A circle of radius 6.75 has area 143.13881527918494\n"
     ]
    }
   ],
   "source": [
    "import math\n",
    "\n",
    "def Calc_Circle(radius, letter):\n",
    "    \"\"\"\n",
    "    This function inputs a radius and depending on the requested letter,\n",
    "    output either the area, circumference, or diameter of a circle with\n",
    "    that given radius.\n",
    "    \"\"\"\n",
    "    if letter == 'A':\n",
    "        area = math.pi*(radius**2)\n",
    "        print(f\"A circle of radius {radius} has area {area}\")\n",
    "    elif letter == 'C':\n",
    "        circumference = 2*math.pi*radius\n",
    "        print(f\"A circle of radius {radius} has circumference {circumference}\")\n",
    "    elif letter == 'D':\n",
    "        diameter = 2*radius\n",
    "        print(f\"A circle of radius {radius} has diameter {diameter}\")\n",
    "Calc_Circle(6.75, 'A')"
   ]
  },
  {
   "cell_type": "code",
   "execution_count": 30,
   "id": "c8da07bb",
   "metadata": {},
   "outputs": [
    {
     "name": "stdout",
     "output_type": "stream",
     "text": [
      "7\n"
     ]
    }
   ],
   "source": [
    "def maxOdd(x, y, z):\n",
    "    \"\"\"\n",
    "    This function is meant to output the largest odd number. If none of\n",
    "    the inserted variables are odd numbers, then it outputs a statement\n",
    "    acknowleding that.\n",
    "    \"\"\"\n",
    "    maxNum = 0\n",
    "    tempList = [x, y, z] # put in a list in order to be able to pass them through a for loop\n",
    "    for each_item in tempList:\n",
    "        if each_item%2 == 0: # checks for even variables \n",
    "            continue\n",
    "        elif each_item > maxNum: # updates the maximum value\n",
    "            maxNum = each_item\n",
    "            \n",
    "    if maxNum != 0:\n",
    "        print(maxNum)\n",
    "    else:\n",
    "        print(\"There were no odd numbers.\")\n",
    "        \n",
    "maxOdd(14, 7, 5)"
   ]
  }
 ],
 "metadata": {
  "kernelspec": {
   "display_name": "Python 3 (ipykernel)",
   "language": "python",
   "name": "python3"
  },
  "language_info": {
   "codemirror_mode": {
    "name": "ipython",
    "version": 3
   },
   "file_extension": ".py",
   "mimetype": "text/x-python",
   "name": "python",
   "nbconvert_exporter": "python",
   "pygments_lexer": "ipython3",
   "version": "3.9.7"
  }
 },
 "nbformat": 4,
 "nbformat_minor": 5
}
