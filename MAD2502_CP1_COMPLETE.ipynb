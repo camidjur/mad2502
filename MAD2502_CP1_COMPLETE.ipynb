{
 "cells": [
  {
   "cell_type": "markdown",
   "id": "9f2f3072",
   "metadata": {},
   "source": [
    "<H3 align = \"right\">Spring 2022 Computer Project 1</H3>\n",
    "\n",
    "# Names: Gavin Sidhu, Camila Djurinsky Zapolski, Tan Hollman"
   ]
  },
  {
   "cell_type": "markdown",
   "id": "cac087ca",
   "metadata": {},
   "source": [
    "---\n",
    "### Question 1 \n",
    "Write a function called Calc Circle that calculates and prints the diameter, the\n",
    "circumference, or the area of a circle, given the radius. The function inputs two data items.\n",
    "The first is the radius as a float. The second is a character -’D’ (for diameter), ’C’ (for\n",
    "circumference), or ’A’ (for Area) - to indicate the calculation needed. The data value is a\n",
    "floating-point number indicating the radius of the particular circle. The program should\n",
    "echo-print the input data. The output should be appropriately formatted. For example,\n",
    "if the user inputs a radius of 6.75 and then selects ’A’ for Area then your program should\n",
    "print this:\n",
    "\n",
    "In: Calc_Circ(6.75, ’A’)\n",
    "\n",
    "\"A circle of radius 6.75 has area 143.13881527918494\""
   ]
  },
  {
   "cell_type": "code",
   "execution_count": null,
   "id": "4ab292a1",
   "metadata": {},
   "outputs": [],
   "source": [
    "import math\n",
    "\n",
    "def Calc_Circle(radius, letter):\n",
    "    \"\"\"\n",
    "    This function inputs a radius and depending on the requested letter,\n",
    "    outputs either the area, circumference, or diameter of a circle with\n",
    "    that given radius.\n",
    "    Input: a radius and letter to determine the output\n",
    "    Output: the area, circumference, or diameter of the circle\n",
    "    name: Camila Djurinsky Zapolski\n",
    "    date: Jan. 2022\n",
    "    \"\"\"\n",
    "    \n",
    "    if letter == 'A':\n",
    "        area = math.pi*(radius**2)\n",
    "        print(f\"A circle of radius {radius} has area {area}.\")\n",
    "        \n",
    "    elif letter == 'C':\n",
    "        circumference = 2*math.pi*radius\n",
    "        print(f\"A circle of radius {radius} has circumference {circumference}.\")\n",
    "        \n",
    "    elif letter == 'D':\n",
    "        diameter = 2*radius\n",
    "        print(f\"A circle of radius {radius} has diameter {diameter}.\")\n",
    "        \n",
    "Calc_Circle(6.75,'A')"
   ]
  },
  {
   "cell_type": "markdown",
   "id": "51847193",
   "metadata": {},
   "source": [
    " ---\n",
    " ### Question 2 \n",
    "Write a function maxOdd(x, y, z) where it returns the largest odd variable\n",
    "among x,y and z. If none of them are odd, it should print a message to that effect.\n",
    "\n",
    "In: maxOdd(14, 7, 5)\n",
    "\n",
    "Out: 7"
   ]
  },
  {
   "cell_type": "code",
   "execution_count": null,
   "id": "51597de1",
   "metadata": {},
   "outputs": [],
   "source": [
    "def maxOdd(x,y,z):\n",
    "    \"\"\"\n",
    "    This function is meant to output the largest odd number. If none of\n",
    "    the inserted variables are odd numbers, then it outputs a statement\n",
    "    acknowledging that.\n",
    "    Input: three integers\n",
    "    Output: the largest odd number or a message saying there were no odd numbers entered\n",
    "    name: Camila Djurinsky Zapolski\n",
    "    date: Jan. 2022\n",
    "    \"\"\"\n",
    "    maxNum = 0\n",
    "    tempList = [x,y,z] # put in a list in order to be able to pass them through a for loop\n",
    "    for each_item in tempList:\n",
    "        if each_item % 2 == 0: # checks for even variables\n",
    "            continue\n",
    "        elif each_item > maxNum: # updates the maximum value\n",
    "            maxNum = each_item\n",
    "            \n",
    "    if maxNum != 0:\n",
    "        print(maxNum)\n",
    "        \n",
    "    else: print(\"There were no odd numbers.\")\n",
    "        \n",
    "maxOdd(14,7,5)"
   ]
  },
  {
   "cell_type": "markdown",
   "id": "9d190311",
   "metadata": {},
   "source": [
    "### Question 3 \n",
    "Write a Python function draw(n) that constructs the following pattern using the\n",
    "print function and a nested for loop."
   ]
  },
  {
   "cell_type": "code",
   "execution_count": null,
   "id": "5036248b",
   "metadata": {},
   "outputs": [],
   "source": [
    "def draw(n):\n",
    "    \"\"\"\n",
    "    Creates a pattern of asterisks with the longest row being length n\n",
    "    Input: an integer n\n",
    "    Output: pattern of asterisks\n",
    "    name: Gavin Sidhu\n",
    "    date: Jan. 2022\n",
    "    \"\"\"\n",
    "    \n",
    "    for i in range(1,n,1):\n",
    "        print(i*\"*\")\n",
    "        # For each number between 1 and n increasing by 1, print a line with n asterisks.\n",
    "        \n",
    "    for j in range(n,0,-1):\n",
    "        print(j*\"*\")\n",
    "        # This is the same for loop as the first, but instead it is decreasing by 1 to create the bottom portion.\n",
    "        \n",
    "draw(5)"
   ]
  },
  {
   "cell_type": "markdown",
   "id": "9d76a4b9",
   "metadata": {},
   "source": [
    "### Question 4\n",
    "\n",
    "Let be the quadratic equation q(x) = ax2+ bx + c for some scalar values of a,\n",
    "b, and c. A root of q(x) is an r such that q(r) = 0. \n",
    "Write a function my n roots(a,b,c), where a, b, and c are the coefficients of the quadratic\n",
    "Q(x), the function should return two values: n roots and r.n roots is 2 if Q has two real\n",
    "roots, 1 if Q has one root, −2 if Q has two imaginary roots, and r is an array containing\n",
    "the roots of Q."
   ]
  },
  {
   "cell_type": "code",
   "execution_count": null,
   "id": "6803287b",
   "metadata": {
    "scrolled": true
   },
   "outputs": [],
   "source": [
    "import numpy as np\n",
    "\n",
    "\n",
    "def my_n_roots(a,b,c):\n",
    "    \"\"\"\n",
    "    Calculates the real or imaginary root(s) of a quadratic equation\n",
    "    with coefficients a,b,c\n",
    "    Input: the coefficients a,b,c\n",
    "    Output: the number of real or imaginary roots (n_roots) and an array of those roots (roots)\n",
    "    name: Gavin Sidhu\n",
    "    date: Jan. 2022\n",
    "    \"\"\"\n",
    "    \n",
    "    if a == 0 and b == 0:\n",
    "        \n",
    "        n_roots = 0\n",
    "        roots = \"Does not exist\"\n",
    "        # If a and b are 0, then the function is a horizontal line with no roots.\n",
    "        \n",
    "    elif a == 0 and b != 0:\n",
    "        \n",
    "        n_roots = 1\n",
    "        roots = [-c/b]\n",
    "        # Checks if equation is actually a line and solves for it.\n",
    "    \n",
    "    else:\n",
    "        \n",
    "        x1 = (-b + np.emath.sqrt(b**2 - 4*a*c)) / (2*a)\n",
    "        x2 = (-b - np.emath.sqrt(b**2 - 4*a*c)) / (2*a)\n",
    "        \n",
    "        roots = [x1,x2]\n",
    "        \n",
    "        if b**2 - 4*a*c > 0: \n",
    "            n_roots = 2\n",
    "            # Checks if the two roots are real.\n",
    "        \n",
    "        elif b**2 - 4*a*c < 0:\n",
    "            n_roots = -2\n",
    "            # Checks if the two roots are complex.\n",
    "            \n",
    "        else:\n",
    "            n_roots = 1\n",
    "            roots = [-b / (2*a)]\n",
    "            # If the two roots are not complex, then there must be two real roots.\n",
    "    \n",
    "    return print(f\"n_roots = {n_roots}, r = {roots}\")\n",
    "\n",
    "my_n_roots(3,4,5)"
   ]
  },
  {
   "cell_type": "markdown",
   "id": "b2b95c61",
   "metadata": {},
   "source": [
    "---\n",
    "### Question 5\n",
    "\n",
    "Create a function called SymmDiff(f, a, h) where f is a function input, a is a\n",
    "real value and h is small. The value returns\n",
    "SymmDiff(f,a,h) = (f(a+h)−f(a−h))/2h .\n",
    "This approximates the derivative of f at x = a with a step size of h.\n",
    "\n",
    "(a) Try this function with f(x) = x2+ 1 near a = 0 and h = −0.5,−0.1,0.1,0.5. How\n",
    "does this compare to the derivative of f at a = 0?\n",
    "\n",
    "(b) Try this function with f(x) = |x| near a = 0 and h = −0.5,−0.1,0.1,0.5. How does\n",
    "this compare to the derivative of f at a = 0?\n",
    "\n",
    "(c) Try this function with f(x) = sin(x) near a = π and h = −0.5,−0.1,0.1,0.5. How\n",
    "does this compare to the derivative of f at a = 0? (Use NumPy)"
   ]
  },
  {
   "cell_type": "code",
   "execution_count": null,
   "id": "030295c0",
   "metadata": {},
   "outputs": [],
   "source": [
    "import numpy as np\n",
    "\n",
    "def SymmDiff(f, a, h):\n",
    "    \"\"\"\n",
    "    Approximates the derivative of f at x = a with a step size of h\n",
    "    Input: f (a function of x), x-value to calculate the derivative of (a),\n",
    "    and the step size h\n",
    "    Output: an approximation of the derivative of f at x = a\n",
    "    Name: Tan Hallman\n",
    "    Date: Jan 2022\n",
    "    \"\"\"\n",
    "    result = 0.5*(f(a+h)-f(a-h))/h\n",
    "    \n",
    "    return result\n",
    "\n",
    "print(SymmDiff(lambda x: x**2 + 1, 0, -0.5))\n",
    "print(SymmDiff(lambda x: x**2 + 1, 0, -0.1))\n",
    "print(SymmDiff(lambda x: x**2 + 1, 0, 0.1))\n",
    "print(SymmDiff(lambda x: x**2 + 1, 0, 0.5))"
   ]
  },
  {
   "cell_type": "markdown",
   "id": "268537fe",
   "metadata": {},
   "source": [
    "The derivative of x^2 + 1 at x = 0 is 0, so the function is consistent with the derivative."
   ]
  },
  {
   "cell_type": "code",
   "execution_count": null,
   "id": "afdc9b60",
   "metadata": {},
   "outputs": [],
   "source": [
    "print(SymmDiff(lambda x: abs(x), 0, -0.5))\n",
    "print(SymmDiff(lambda x: abs(x), 0, -0.1))\n",
    "print(SymmDiff(lambda x: abs(x), 0, 0.1))\n",
    "print(SymmDiff(lambda x: abs(x), 0, 0.5))"
   ]
  },
  {
   "cell_type": "markdown",
   "id": "69dc0b15",
   "metadata": {},
   "source": [
    "The derivative of abs(x) at x = 0 does not exist since the tangent lines are different\n",
    "approaching from the left and right side, so the function is not consistent with the derivative."
   ]
  },
  {
   "cell_type": "code",
   "execution_count": null,
   "id": "674d39ee",
   "metadata": {},
   "outputs": [],
   "source": [
    "print(SymmDiff(lambda x: np.sin(x), np.pi, -0.5))\n",
    "print(SymmDiff(lambda x: np.sin(x), np.pi, -0.1))\n",
    "print(SymmDiff(lambda x: np.sin(x), np.pi, 0.1))\n",
    "print(SymmDiff(lambda x: np.sin(x), np.pi, 0.5))"
   ]
  },
  {
   "cell_type": "markdown",
   "id": "6bec7320",
   "metadata": {},
   "source": [
    "The function indicates that the derivative should be -1, and the derivative of sin(x) at x = π is -1, so the function seems to be consistent with the derivative."
   ]
  }
 ],
 "metadata": {
  "kernelspec": {
   "display_name": "Python 3 (ipykernel)",
   "language": "python",
   "name": "python3"
  },
  "language_info": {
   "codemirror_mode": {
    "name": "ipython",
    "version": 3
   },
   "file_extension": ".py",
   "mimetype": "text/x-python",
   "name": "python",
   "nbconvert_exporter": "python",
   "pygments_lexer": "ipython3",
   "version": "3.9.7"
  }
 },
 "nbformat": 4,
 "nbformat_minor": 5
}
